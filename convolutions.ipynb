{
 "cells": [
  {
   "cell_type": "markdown",
   "metadata": {},
   "source": [
    "Convolutions"
   ]
  },
  {
   "cell_type": "code",
   "execution_count": 2,
   "metadata": {},
   "outputs": [],
   "source": [
    "import numpy as np \n",
    "from PIL import Image as im\n",
    "from scipy.signal import convolve2d\n",
    "from scipy.signal import convolve"
   ]
  },
  {
   "cell_type": "code",
   "execution_count": 36,
   "metadata": {},
   "outputs": [],
   "source": [
    "Sx = np.array([[1, 0, -1], [2, 0 , -2], [1, 0 , -1]])\n",
    "Sy = np.array([[1, 2, 1], [0, 0, 0], [-1, -2 , -1]])\n",
    "L = np.array([[0, 1, 0], [1, -4, 1], [0, 1, 0]])\n",
    "G = np.array([[1, 2, 1], [1, 4, 1], [1, 2, 1]]) / 16\n",
    "W = np.array([[0, -1, 0], [-1, 5, -1], [0, -1 , 0]])\n",
    "\n",
    "G2 = np.array([[1, 1, 2, 1, 1], [1, 2, 4, 2, 1], [2, 4, 8, 4, 2],[1, 2, 4, 2, 1], [1, 1, 2, 1, 1]]) / 16\n",
    "mean_filter = np.array([[1, 1, 1], [1, 1, 1], [1, 1, 1]]) / 16\n",
    "mean_romoval_filter = np.array([[-1, -1, -1], [-1, 9, -1], [-1, -1, -1]])\n",
    "HP1 = np.array([[0, -1, 0], [-1, 5, -1], [0, -1, 0]])\n",
    "HP3 = np.array([[0, -1, 0], [-1, 20, -1], [0, -1, 0]])\n",
    "\n",
    "Laplace0 = np.array([[0, -1, 0], [-1, 4, -1], [0, -1, 0]])\n",
    "Laplace1 = np.array([[-1, -1, -1], [-1, 8, -1], [-1, -1, -1]])\n",
    "Laplace2 = np.array([[1, -2, 1], [-2, 4, -2], [1, -2, 1]])\n",
    "diagonal_Laplace = np.array([[-1, 0, -1], [0, 4, 0], [-1, 0, -1]])\n",
    "\n",
    "Lx = np.array([[0, -1, 0], [0, 2, 0], [0, -1, 0]])\n",
    "Ly = np.array([[0, 0, 0], [-1, 2, -1], [0, 0, 0]])\n",
    "\n",
    "SFx = np.array([[1, 2, 1], [0, 0, 0], [-1, -2, -1]])\n",
    "SFy = np.array([[1, 0, -1], [2, 0, -2], [1, 0, -1]])\n",
    "\n",
    "Px = np.array([[1, 1, 1], [0, 0, 0], [-1, -1, -1]])\n",
    "Py = np.array([[1, 0, -1], [1, 0, -1], [1, 0, -1]])"
   ]
  },
  {
   "cell_type": "code",
   "execution_count": 4,
   "metadata": {},
   "outputs": [],
   "source": [
    "def convert_to_greyscale(input_data):\n",
    "    array = np.array(input_data)\n",
    "    grayscale_image = np.mean(array, axis=-1, keepdims=True).astype(np.uint8)\n",
    "    return grayscale_image.squeeze()"
   ]
  },
  {
   "cell_type": "code",
   "execution_count": 5,
   "metadata": {},
   "outputs": [],
   "source": [
    "def convolve_with_padding(array, kernel, padding):\n",
    "    padded = np.pad(array, ((padding, padding), (padding, padding)), mode='constant', constant_values=0)\n",
    "    return convolve2d(padded, kernel, mode='same')"
   ]
  },
  {
   "cell_type": "code",
   "execution_count": 6,
   "metadata": {},
   "outputs": [],
   "source": [
    "def complex_filter(input_data, vertical_kernel, horizontal_kernel):\n",
    "    Gx = convolve_with_padding(input_data, vertical_kernel, 2)\n",
    "    Gy = convolve_with_padding(input_data, horizontal_kernel, 2)\n",
    "    return np.sqrt(Gx**2 + Gy**2)"
   ]
  },
  {
   "cell_type": "code",
   "execution_count": 37,
   "metadata": {},
   "outputs": [],
   "source": [
    "image = im.open('car.jpg')\n",
    "image.resize((1500, 1500))\n",
    "\n",
    "array = convert_to_greyscale(image)\n",
    "\n",
    "convolved_array = convolve_with_padding(array, HP1, 2) # you can change second argument, third argument should be kernel's size - 1 \n",
    "#convolved_array = complex_filter(array, Sx, Sy) # put Xx and Xy kernels\n",
    "\n",
    "array_display = convolved_array.clip(0, 255).astype(np.uint8)\n",
    "\n",
    "image = im.fromarray(array_display)\n",
    "\n",
    "image.show()\n",
    "image.save('HP3.png', format='png')"
   ]
  }
 ],
 "metadata": {
  "kernelspec": {
   "display_name": "Python 3",
   "language": "python",
   "name": "python3"
  },
  "language_info": {
   "codemirror_mode": {
    "name": "ipython",
    "version": 3
   },
   "file_extension": ".py",
   "mimetype": "text/x-python",
   "name": "python",
   "nbconvert_exporter": "python",
   "pygments_lexer": "ipython3",
   "version": "3.12.0"
  }
 },
 "nbformat": 4,
 "nbformat_minor": 2
}
